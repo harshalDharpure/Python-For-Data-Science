{
 "cells": [
  {
   "cell_type": "markdown",
   "metadata": {},
   "source": [
    "The For Loop in Python is used to iterate over a sequence of items (like list, tuple, sets etc.)"
   ]
  },
  {
   "cell_type": "markdown",
   "metadata": {},
   "source": [
    "The For Loop is executed for each item/element of the given sequence"
   ]
  },
  {
   "cell_type": "markdown",
   "metadata": {},
   "source": [
    "Identation is mandatory while using the For Loop"
   ]
  },
  {
   "cell_type": "raw",
   "metadata": {},
   "source": [
    "Syntax:\n",
    "\n",
    "for Variable in Sequence:\n",
    "    Body of for loop"
   ]
  },
  {
   "attachments": {
    "for-loop-flow-diagram.jpg": {
     "image/jpeg": "[encoded data removed]"
    }
   },
   "cell_type": "markdown",
   "metadata": {},
   "source": [
    "![for-loop-flow-diagram.jpg](attachment:for-loop-flow-diagram.jpg)"
   ]
  },
  {
   "cell_type": "markdown",
   "metadata": {},
   "source": [
    "-----"
   ]
  },
  {
   "cell_type": "code",
   "execution_count": 1,
   "metadata": {},
   "outputs": [
    {
     "name": "stdout",
     "output_type": "stream",
     "text": [
      "1\n",
      "2\n",
      "3\n",
      "4\n",
      "5\n"
     ]
    }
   ],
   "source": [
    "# Simple For Loop example 1\n",
    "\n",
    "for i in [1,2,3,4,5]:\n",
    "    print(i)\n",
    "    #print(i, end=\" \")    # To print in one line"
   ]
  },
  {
   "cell_type": "code",
   "execution_count": 2,
   "metadata": {},
   "outputs": [
    {
     "name": "stdout",
     "output_type": "stream",
     "text": [
      "212\n",
      "334\n",
      "3434\n",
      "212154\n",
      "6432\n"
     ]
    }
   ],
   "source": [
    "# Simple For Loop example 2\n",
    "\n",
    "for x in [212,334,3434,212154,6432]:\n",
    "    print(x)\n",
    "    #print(x, end=\" \")"
   ]
  },
  {
   "cell_type": "code",
   "execution_count": 4,
   "metadata": {},
   "outputs": [
    {
     "name": "stdout",
     "output_type": "stream",
     "text": [
      "11\n",
      "12\n",
      "13\n",
      "14\n",
      "15\n"
     ]
    }
   ],
   "source": [
    "# Using the For Loop on a List of numbers\n",
    "\n",
    "A = [11,12,13,14,15]\n",
    "\n",
    "for i in A:\n",
    "    print(i)"
   ]
  },
  {
   "cell_type": "code",
   "execution_count": 5,
   "metadata": {},
   "outputs": [
    {
     "name": "stdout",
     "output_type": "stream",
     "text": [
      "Delhi\n",
      "Noida\n",
      "Guragon\n",
      "Meerut\n"
     ]
    }
   ],
   "source": [
    "# Using the For Loop on a List of strings\n",
    "\n",
    "\n",
    "Cities = ['Delhi', 'Noida', 'Guragon', 'Meerut']\n",
    "\n",
    "for city in Cities:\n",
    "    print(city)"
   ]
  },
  {
   "cell_type": "code",
   "execution_count": 6,
   "metadata": {},
   "outputs": [
    {
     "name": "stdout",
     "output_type": "stream",
     "text": [
      "India\n",
      "US\n",
      "Canada\n",
      "Japan\n"
     ]
    }
   ],
   "source": [
    "# Using the For Loop on a Tuple of strings\n",
    "\n",
    "Countries = ('India', 'US', 'Canada', 'Japan')\n",
    "\n",
    "for country in Countries:\n",
    "    print(country)"
   ]
  },
  {
   "cell_type": "code",
   "execution_count": 3,
   "metadata": {},
   "outputs": [
    {
     "name": "stdout",
     "output_type": "stream",
     "text": [
      "Canada\n",
      "Japan\n",
      "India\n",
      "US\n"
     ]
    }
   ],
   "source": [
    "# Using the For Loop on a Set of strings\n",
    "\n",
    "Countries = {'India', 'US', 'Canada', 'Japan'}\n",
    "\n",
    "for country in Countries:\n",
    "    print(country)"
   ]
  },
  {
   "cell_type": "code",
   "execution_count": 12,
   "metadata": {},
   "outputs": [
    {
     "name": "stdout",
     "output_type": "stream",
     "text": [
      "Ram\n",
      "Sham\n",
      "Shiva\n"
     ]
    }
   ],
   "source": [
    "# Using the For Loop on a Dictionary\n",
    "\n",
    "D = {'Ram':1, 'Sham':2, 'Shiva':3}\n",
    "\n",
    "for name in D:\n",
    "    print(name)"
   ]
  },
  {
   "cell_type": "code",
   "execution_count": 4,
   "metadata": {},
   "outputs": [
    {
     "name": "stdout",
     "output_type": "stream",
     "text": [
      "W\n",
      "e\n",
      "l\n",
      "c\n",
      "o\n",
      "m\n",
      "e\n",
      " \n",
      "t\n",
      "o\n",
      " \n",
      "D\n",
      "a\n",
      "t\n",
      "a\n",
      " \n",
      "S\n",
      "c\n",
      "i\n",
      "e\n",
      "n\n",
      "c\n",
      "e\n",
      " \n",
      "w\n",
      "o\n",
      "r\n",
      "l\n",
      "d\n"
     ]
    }
   ],
   "source": [
    "# Using the For Loop on a String\n",
    "\n",
    "S = \"Welcome to Data Science world\"\n",
    "\n",
    "for s in S:\n",
    "    print(s)"
   ]
  },
  {
   "cell_type": "code",
   "execution_count": 5,
   "metadata": {},
   "outputs": [
    {
     "name": "stdout",
     "output_type": "stream",
     "text": [
      "0\n",
      "1\n",
      "2\n",
      "3\n",
      "4\n",
      "5\n",
      "6\n",
      "7\n",
      "8\n",
      "9\n"
     ]
    }
   ],
   "source": [
    "# Using the For Loop with range()\n",
    "\n",
    "for x in range(10):\n",
    "    print(x)"
   ]
  },
  {
   "cell_type": "code",
   "execution_count": null,
   "metadata": {},
   "outputs": [],
   "source": [
    "# Multiplying each element of a list with 2, using the For Loop\n",
    "\n",
    "Table = [2,4,6,8,10,12,14,16,18,20]\n",
    "\n",
    "for x in Table:\n",
    "    x = x*2\n",
    "    print(x)"
   ]
  },
  {
   "cell_type": "code",
   "execution_count": 1,
   "metadata": {},
   "outputs": [
    {
     "name": "stdout",
     "output_type": "stream",
     "text": [
      "11 is an odd number\n",
      "12 is an even number\n",
      "13 is an odd number\n",
      "14 is an even number\n",
      "15 is an odd number\n",
      "16 is an even number\n",
      "17 is an odd number\n",
      "18 is an even number\n",
      "19 is an odd number\n",
      "20 is an even number\n"
     ]
    }
   ],
   "source": [
    "# Verifying the Odd and Even Numbers from the list\n",
    "\n",
    "\n",
    "Numbers = [11,12,13,14,15,16,17,18,19,20]\n",
    "\n",
    "for i in Numbers:\n",
    "    if i%2==0:\n",
    "        print(f\"{i} is an even number\")\n",
    "    else:\n",
    "        print(f\"{i} is an odd number\")"
   ]
  },
  {
   "cell_type": "markdown",
   "metadata": {},
   "source": [
    "----"
   ]
  },
  {
   "cell_type": "raw",
   "metadata": {},
   "source": [
    "Exercise - What will be the output of this code\n",
    "\n",
    "\n",
    "A = ['I Love']\n",
    "B = ['Data Science', 'Python', 'Statistics', 'Machine Learning']\n",
    "\n",
    "for i in A:\n",
    "    for j in B:\n",
    "        print(i,j)"
   ]
  },
  {
   "cell_type": "markdown",
   "metadata": {},
   "source": [
    "----"
   ]
  }
 ],
 "metadata": {
  "kernelspec": {
   "display_name": "Python 3 (ipykernel)",
   "language": "python",
   "name": "python3"
  },
  "language_info": {
   "codemirror_mode": {
    "name": "ipython",
    "version": 3
   },
   "file_extension": ".py",
   "mimetype": "text/x-python",
   "name": "python",
   "nbconvert_exporter": "python",
   "pygments_lexer": "ipython3",
   "version": "3.11.2"
  },
  "toc": {
   "base_numbering": 1,
   "nav_menu": {},
   "number_sections": true,
   "sideBar": true,
   "skip_h1_title": false,
   "title_cell": "Table of Contents",
   "title_sidebar": "Contents",
   "toc_cell": false,
   "toc_position": {},
   "toc_section_display": true,
   "toc_window_display": false
  }
 },
 "nbformat": 4,
 "nbformat_minor": 2
}
