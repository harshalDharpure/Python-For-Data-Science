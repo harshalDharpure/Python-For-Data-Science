{
 "cells": [
  {
   "cell_type": "markdown",
   "metadata": {},
   "source": [
    "We use 'if' statement to run a code if a certain condition is True"
   ]
  },
  {
   "cell_type": "markdown",
   "metadata": {},
   "source": [
    "In case, the condition is not True, then 'Else' statement is carried out"
   ]
  },
  {
   "cell_type": "markdown",
   "metadata": {},
   "source": [
    "IF-ELSE are the conditional statements means these statements are executed based on the certain conditions"
   ]
  },
  {
   "cell_type": "markdown",
   "metadata": {},
   "source": [
    "Identation is mandatory while using the if-else statements"
   ]
  },
  {
   "cell_type": "raw",
   "metadata": {},
   "source": [
    "Syntax:\n",
    "\n",
    "if <condition>:\n",
    "    \"Body of IF statement\"\n",
    "else:\n",
    "    \"Body of ELSE statement\""
   ]
  },
  {
   "attachments": {
    "if%20else%20data%20science%20lovers.png": {
     "image/png": "[encoded data removed]"
    }
   },
   "cell_type": "markdown",
   "metadata": {},
   "source": [
    "![if%20else%20data%20science%20lovers.png](attachment:if%20else%20data%20science%20lovers.png)"
   ]
  },
  {
   "cell_type": "markdown",
   "metadata": {},
   "source": [
    "-----"
   ]
  },
  {
   "cell_type": "code",
   "execution_count": 2,
   "metadata": {},
   "outputs": [
    {
     "name": "stdout",
     "output_type": "stream",
     "text": [
      "The value is greater than 10\n"
     ]
    }
   ],
   "source": [
    "# If an expression is True, then a statement is carried out\n",
    "\n",
    "value = 100\n",
    "\n",
    "if value>10:\n",
    "    print(\"The value is greater than 10\")"
   ]
  },
  {
   "cell_type": "code",
   "execution_count": 7,
   "metadata": {},
   "outputs": [],
   "source": [
    "# If an expression is Not True (i.e., False), then no statement is carried out\n",
    "\n",
    "value = 9\n",
    "\n",
    "if value>10:\n",
    "    print(\"The value is greater than 10\")"
   ]
  },
  {
   "cell_type": "markdown",
   "metadata": {},
   "source": [
    "-----"
   ]
  },
  {
   "cell_type": "markdown",
   "metadata": {},
   "source": [
    "In case, the 'IF' condition is not satisfied, then we execute the statement of 'ELSE' condition"
   ]
  },
  {
   "cell_type": "code",
   "execution_count": 8,
   "metadata": {},
   "outputs": [
    {
     "name": "stdout",
     "output_type": "stream",
     "text": [
      "The value is not greater than 10\n"
     ]
    }
   ],
   "source": [
    "value = 9\n",
    "\n",
    "if value>10:\n",
    "    print(\"The value is greater than 10\")\n",
    "else:\n",
    "    print(\"The value is not greater than 10\")"
   ]
  },
  {
   "cell_type": "markdown",
   "metadata": {},
   "source": [
    "----"
   ]
  },
  {
   "cell_type": "code",
   "execution_count": 5,
   "metadata": {},
   "outputs": [
    {
     "name": "stdout",
     "output_type": "stream",
     "text": [
      "You have entered the wrong PIN\n"
     ]
    }
   ],
   "source": [
    "# Verifying the user's PIN\n",
    "\n",
    "PIN = 1234\n",
    "\n",
    "if PIN==12345:\n",
    "    print(\"You have entered the correct PIN\")\n",
    "else:\n",
    "    print(\"You have entered the wrong PIN\")"
   ]
  },
  {
   "cell_type": "code",
   "execution_count": 6,
   "metadata": {},
   "outputs": [
    {
     "name": "stdout",
     "output_type": "stream",
     "text": [
      "Yes\n"
     ]
    }
   ],
   "source": [
    "x = 500\n",
    "y = 600\n",
    "\n",
    "if x<y:\n",
    "    print(\"Yes\")\n",
    "else:\n",
    "    print(\"No\")"
   ]
  },
  {
   "cell_type": "code",
   "execution_count": 7,
   "metadata": {},
   "outputs": [
    {
     "name": "stdout",
     "output_type": "stream",
     "text": [
      "No\n"
     ]
    }
   ],
   "source": [
    "x = 500\n",
    "y = 600\n",
    "\n",
    "if x>y:\n",
    "    print(\"Yes\")\n",
    "else:\n",
    "    print(\"No\")"
   ]
  },
  {
   "cell_type": "markdown",
   "metadata": {},
   "source": [
    "### IF-ELSE in One Single Line"
   ]
  },
  {
   "cell_type": "code",
   "execution_count": 10,
   "metadata": {},
   "outputs": [
    {
     "name": "stdout",
     "output_type": "stream",
     "text": [
      "No\n"
     ]
    }
   ],
   "source": [
    "x = 500\n",
    "y = 600\n",
    "\n",
    "print(\"Yes\") if x>y else print(\"No\")"
   ]
  },
  {
   "cell_type": "markdown",
   "metadata": {},
   "source": [
    "----"
   ]
  },
  {
   "cell_type": "markdown",
   "metadata": {},
   "source": [
    "### Elif Statements  - To check for multiple conditions"
   ]
  },
  {
   "cell_type": "code",
   "execution_count": 20,
   "metadata": {},
   "outputs": [
    {
     "name": "stdout",
     "output_type": "stream",
     "text": [
      "You are not eligible\n"
     ]
    }
   ],
   "source": [
    "# Checking the eligiblity of a student depending on Marks & Language\n",
    "\n",
    "marks = 70\n",
    "language = 'English'\n",
    "\n",
    "if (marks>75 and language=='Hindi'):\n",
    "    print(\"You are eligible\")\n",
    "elif (marks<75 and language=='Hindi'):\n",
    "    print(\"You have got marks less than 75\")\n",
    "elif(language!='Hindi' and marks>75):\n",
    "    print(\"You must know Hindi language\")\n",
    "else:\n",
    "    print(\"You are not eligible\")"
   ]
  },
  {
   "cell_type": "markdown",
   "metadata": {},
   "source": [
    "----"
   ]
  }
 ],
 "metadata": {
  "kernelspec": {
   "display_name": "Python 3 (ipykernel)",
   "language": "python",
   "name": "python3"
  },
  "language_info": {
   "codemirror_mode": {
    "name": "ipython",
    "version": 3
   },
   "file_extension": ".py",
   "mimetype": "text/x-python",
   "name": "python",
   "nbconvert_exporter": "python",
   "pygments_lexer": "ipython3",
   "version": "3.11.2"
  },
  "toc": {
   "base_numbering": 1,
   "nav_menu": {},
   "number_sections": true,
   "sideBar": true,
   "skip_h1_title": false,
   "title_cell": "Table of Contents",
   "title_sidebar": "Contents",
   "toc_cell": false,
   "toc_position": {},
   "toc_section_display": true,
   "toc_window_display": false
  }
 },
 "nbformat": 4,
 "nbformat_minor": 2
}
