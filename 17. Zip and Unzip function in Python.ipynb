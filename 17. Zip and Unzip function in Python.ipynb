{
 "cells": [
  {
   "cell_type": "markdown",
   "metadata": {},
   "source": [
    "# Zip() Function in Python"
   ]
  },
  {
   "cell_type": "markdown",
   "metadata": {},
   "source": [
    "The zip() is used to join the elements of two or more iterables together."
   ]
  },
  {
   "cell_type": "markdown",
   "metadata": {},
   "source": [
    "It takes the elements from each iterable, join them index wise and returns a final sequence of tuples"
   ]
  },
  {
   "cell_type": "raw",
   "metadata": {},
   "source": [
    "Syntax : zip(iterable_1, iterable_2, iterable_3.....)\n",
    "\n",
    "where, \n",
    "iterable - list,tuple,set,dictionary"
   ]
  },
  {
   "cell_type": "markdown",
   "metadata": {},
   "source": [
    "-----"
   ]
  },
  {
   "cell_type": "code",
   "execution_count": 10,
   "metadata": {},
   "outputs": [],
   "source": [
    "A = [1,2,3,4]\n",
    "B = ['Apple', 'Mango', 'Orange', 'Banana']"
   ]
  },
  {
   "cell_type": "code",
   "execution_count": 11,
   "metadata": {},
   "outputs": [
    {
     "data": {
      "text/plain": [
       "<zip at 0x2cf83a98840>"
      ]
     },
     "execution_count": 11,
     "metadata": {},
     "output_type": "execute_result"
    }
   ],
   "source": [
    "zip(A, B)"
   ]
  },
  {
   "cell_type": "code",
   "execution_count": 12,
   "metadata": {},
   "outputs": [
    {
     "data": {
      "text/plain": [
       "[(1, 'Apple'), (2, 'Mango'), (3, 'Orange'), (4, 'Banana')]"
      ]
     },
     "execution_count": 12,
     "metadata": {},
     "output_type": "execute_result"
    }
   ],
   "source": [
    "list(zip(A,B))                               # To get zipped result in the form of a list"
   ]
  },
  {
   "cell_type": "code",
   "execution_count": 13,
   "metadata": {},
   "outputs": [],
   "source": [
    "x = list(zip(A,B))"
   ]
  },
  {
   "cell_type": "code",
   "execution_count": 14,
   "metadata": {},
   "outputs": [
    {
     "name": "stdout",
     "output_type": "stream",
     "text": [
      "[(1, 'Apple'), (2, 'Mango'), (3, 'Orange'), (4, 'Banana')]\n"
     ]
    }
   ],
   "source": [
    "print(x)"
   ]
  },
  {
   "cell_type": "code",
   "execution_count": 15,
   "metadata": {},
   "outputs": [
    {
     "data": {
      "text/plain": [
       "list"
      ]
     },
     "execution_count": 15,
     "metadata": {},
     "output_type": "execute_result"
    }
   ],
   "source": [
    "type(x)"
   ]
  },
  {
   "cell_type": "code",
   "execution_count": 16,
   "metadata": {},
   "outputs": [
    {
     "name": "stdout",
     "output_type": "stream",
     "text": [
      "((1, 'Apple'), (2, 'Mango'), (3, 'Orange'), (4, 'Banana'))\n"
     ]
    }
   ],
   "source": [
    "y = tuple(zip(A, B))                              # To get the zipped result in the form of a tuple \n",
    "print(y)"
   ]
  },
  {
   "cell_type": "code",
   "execution_count": 17,
   "metadata": {},
   "outputs": [
    {
     "data": {
      "text/plain": [
       "tuple"
      ]
     },
     "execution_count": 17,
     "metadata": {},
     "output_type": "execute_result"
    }
   ],
   "source": [
    "type(y)"
   ]
  },
  {
   "cell_type": "code",
   "execution_count": 18,
   "metadata": {},
   "outputs": [
    {
     "name": "stdout",
     "output_type": "stream",
     "text": [
      "{(4, 'Banana'), (2, 'Mango'), (3, 'Orange'), (1, 'Apple')}\n"
     ]
    }
   ],
   "source": [
    "z = set(zip(A,B))                              # To get the zipped result in the form of a set\n",
    "print(z)"
   ]
  },
  {
   "cell_type": "code",
   "execution_count": 19,
   "metadata": {},
   "outputs": [
    {
     "data": {
      "text/plain": [
       "set"
      ]
     },
     "execution_count": 19,
     "metadata": {},
     "output_type": "execute_result"
    }
   ],
   "source": [
    "type(z)"
   ]
  },
  {
   "cell_type": "markdown",
   "metadata": {},
   "source": [
    "----"
   ]
  },
  {
   "cell_type": "code",
   "execution_count": 20,
   "metadata": {},
   "outputs": [],
   "source": [
    "Temple = ['Ram Temple', 'Akshardham Temple', 'Badrinath Temple', 'Konark Sun Temple', 'Rameshwaram Temple']\n",
    "City   = ('UP', 'Delhi', 'Uttrakhand', 'Odisha', 'Tamil Nadu')\n",
    "Code   = [ 101, 102, 103, 104, 105, 106, 107, 108 ]"
   ]
  },
  {
   "cell_type": "code",
   "execution_count": 21,
   "metadata": {
    "scrolled": true
   },
   "outputs": [
    {
     "data": {
      "text/plain": [
       "[('Ram Temple', 'UP', 101),\n",
       " ('Akshardham Temple', 'Delhi', 102),\n",
       " ('Badrinath Temple', 'Uttrakhand', 103),\n",
       " ('Konark Sun Temple', 'Odisha', 104),\n",
       " ('Rameshwaram Temple', 'Tamil Nadu', 105)]"
      ]
     },
     "execution_count": 21,
     "metadata": {},
     "output_type": "execute_result"
    }
   ],
   "source": [
    "list(zip(Temple, City, Code))                # Zipping the 3 iterables"
   ]
  },
  {
   "cell_type": "raw",
   "metadata": {},
   "source": [
    "In this example : \n",
    "- City is a Tuple not a list\n",
    "- The number of elements in 'Code' is 8, while in 'Temple' and 'City' the number of elements is 5\n",
    "- We can also change the sequence to Code, Temple, City"
   ]
  },
  {
   "cell_type": "code",
   "execution_count": 22,
   "metadata": {},
   "outputs": [],
   "source": [
    "s = list(zip(Code, Temple, City))"
   ]
  },
  {
   "cell_type": "code",
   "execution_count": 23,
   "metadata": {},
   "outputs": [
    {
     "name": "stdout",
     "output_type": "stream",
     "text": [
      "[(101, 'Ram Temple', 'UP'), (102, 'Akshardham Temple', 'Delhi'), (103, 'Badrinath Temple', 'Uttrakhand'), (104, 'Konark Sun Temple', 'Odisha'), (105, 'Rameshwaram Temple', 'Tamil Nadu')]\n"
     ]
    }
   ],
   "source": [
    "print(s)"
   ]
  },
  {
   "cell_type": "markdown",
   "metadata": {},
   "source": [
    "----"
   ]
  },
  {
   "cell_type": "markdown",
   "metadata": {},
   "source": [
    "----"
   ]
  },
  {
   "cell_type": "markdown",
   "metadata": {},
   "source": [
    "# UnZip() Function in Python"
   ]
  },
  {
   "cell_type": "markdown",
   "metadata": {},
   "source": [
    "It is just opposite of Zip()"
   ]
  },
  {
   "cell_type": "markdown",
   "metadata": {},
   "source": [
    "It takes the elements from the tuples of a zipped iterable and separate them to form new tuples"
   ]
  },
  {
   "cell_type": "raw",
   "metadata": {},
   "source": [
    "Syntax : zip(*zipped iterable)"
   ]
  },
  {
   "cell_type": "code",
   "execution_count": 25,
   "metadata": {},
   "outputs": [
    {
     "data": {
      "text/plain": [
       "[(1, 'Apple'), (2, 'Mango'), (3, 'Orange'), (4, 'Banana')]"
      ]
     },
     "execution_count": 25,
     "metadata": {},
     "output_type": "execute_result"
    }
   ],
   "source": [
    "x"
   ]
  },
  {
   "cell_type": "code",
   "execution_count": 28,
   "metadata": {},
   "outputs": [],
   "source": [
    "Quantity, Fruit = zip(*x)                              # Unzipping the zipped iterable x into Quantity and Fruits"
   ]
  },
  {
   "cell_type": "code",
   "execution_count": 29,
   "metadata": {},
   "outputs": [
    {
     "name": "stdout",
     "output_type": "stream",
     "text": [
      "(1, 2, 3, 4) ('Apple', 'Mango', 'Orange', 'Banana')\n"
     ]
    }
   ],
   "source": [
    "print(Quantity, Fruit)"
   ]
  },
  {
   "cell_type": "markdown",
   "metadata": {},
   "source": [
    "----"
   ]
  },
  {
   "cell_type": "code",
   "execution_count": 30,
   "metadata": {},
   "outputs": [
    {
     "data": {
      "text/plain": [
       "[(101, 'Ram Temple', 'UP'),\n",
       " (102, 'Akshardham Temple', 'Delhi'),\n",
       " (103, 'Badrinath Temple', 'Uttrakhand'),\n",
       " (104, 'Konark Sun Temple', 'Odisha'),\n",
       " (105, 'Rameshwaram Temple', 'Tamil Nadu')]"
      ]
     },
     "execution_count": 30,
     "metadata": {},
     "output_type": "execute_result"
    }
   ],
   "source": [
    "s"
   ]
  },
  {
   "cell_type": "code",
   "execution_count": 31,
   "metadata": {},
   "outputs": [],
   "source": [
    "Code, Temple, State = zip(*s)                            # Unzipping the zipped iterable s into Code, Temple, State"
   ]
  },
  {
   "cell_type": "code",
   "execution_count": 32,
   "metadata": {},
   "outputs": [
    {
     "name": "stdout",
     "output_type": "stream",
     "text": [
      "(101, 102, 103, 104, 105)\n"
     ]
    }
   ],
   "source": [
    "print(Code)"
   ]
  },
  {
   "cell_type": "code",
   "execution_count": 33,
   "metadata": {},
   "outputs": [
    {
     "name": "stdout",
     "output_type": "stream",
     "text": [
      "('Ram Temple', 'Akshardham Temple', 'Badrinath Temple', 'Konark Sun Temple', 'Rameshwaram Temple')\n"
     ]
    }
   ],
   "source": [
    "print(Temple)"
   ]
  },
  {
   "cell_type": "code",
   "execution_count": 34,
   "metadata": {},
   "outputs": [
    {
     "name": "stdout",
     "output_type": "stream",
     "text": [
      "('UP', 'Delhi', 'Uttrakhand', 'Odisha', 'Tamil Nadu')\n"
     ]
    }
   ],
   "source": [
    "print(City)"
   ]
  },
  {
   "cell_type": "code",
   "execution_count": 35,
   "metadata": {},
   "outputs": [
    {
     "name": "stdout",
     "output_type": "stream",
     "text": [
      "(101, 102, 103, 104, 105) ('Ram Temple', 'Akshardham Temple', 'Badrinath Temple', 'Konark Sun Temple', 'Rameshwaram Temple') ('UP', 'Delhi', 'Uttrakhand', 'Odisha', 'Tamil Nadu')\n"
     ]
    }
   ],
   "source": [
    "print(Code, Temple, City)"
   ]
  },
  {
   "cell_type": "markdown",
   "metadata": {},
   "source": [
    "----"
   ]
  },
  {
   "cell_type": "markdown",
   "metadata": {},
   "source": [
    "----"
   ]
  },
  {
   "cell_type": "raw",
   "metadata": {},
   "source": [
    "Exercise - Zip the given tuples in a Set :\n",
    "\n",
    "t1 = ('Nexon', 'Breeza', 'XUV 500', 'Creta')\n",
    "t2 = ('Tata', 'Maruti Suzuki', 'Mahindra', 'Hyundai')"
   ]
  },
  {
   "cell_type": "markdown",
   "metadata": {},
   "source": [
    "----"
   ]
  }
 ],
 "metadata": {
  "kernelspec": {
   "display_name": "Python 3 (ipykernel)",
   "language": "python",
   "name": "python3"
  },
  "language_info": {
   "codemirror_mode": {
    "name": "ipython",
    "version": 3
   },
   "file_extension": ".py",
   "mimetype": "text/x-python",
   "name": "python",
   "nbconvert_exporter": "python",
   "pygments_lexer": "ipython3",
   "version": "3.11.2"
  },
  "toc": {
   "base_numbering": 1,
   "nav_menu": {},
   "number_sections": true,
   "sideBar": true,
   "skip_h1_title": false,
   "title_cell": "Table of Contents",
   "title_sidebar": "Contents",
   "toc_cell": false,
   "toc_position": {},
   "toc_section_display": true,
   "toc_window_display": false
  }
 },
 "nbformat": 4,
 "nbformat_minor": 2
}
